{
 "cells": [
  {
   "cell_type": "code",
   "execution_count": 1,
   "id": "6a6375d4",
   "metadata": {
    "scrolled": true
   },
   "outputs": [
    {
     "data": {
      "text/html": [
       "<div>\n",
       "<style scoped>\n",
       "    .dataframe tbody tr th:only-of-type {\n",
       "        vertical-align: middle;\n",
       "    }\n",
       "\n",
       "    .dataframe tbody tr th {\n",
       "        vertical-align: top;\n",
       "    }\n",
       "\n",
       "    .dataframe thead th {\n",
       "        text-align: right;\n",
       "    }\n",
       "</style>\n",
       "<table border=\"1\" class=\"dataframe\">\n",
       "  <thead>\n",
       "    <tr style=\"text-align: right;\">\n",
       "      <th></th>\n",
       "      <th>Usia</th>\n",
       "      <th>Kelahiran_ke-</th>\n",
       "      <th>Waktu_Kelahiran</th>\n",
       "      <th>Tekanan_darah</th>\n",
       "      <th>Kelainan_jantung</th>\n",
       "      <th>Caesarian</th>\n",
       "    </tr>\n",
       "  </thead>\n",
       "  <tbody>\n",
       "    <tr>\n",
       "      <th>0</th>\n",
       "      <td>22</td>\n",
       "      <td>1</td>\n",
       "      <td>0</td>\n",
       "      <td>2</td>\n",
       "      <td>0</td>\n",
       "      <td>0</td>\n",
       "    </tr>\n",
       "    <tr>\n",
       "      <th>1</th>\n",
       "      <td>26</td>\n",
       "      <td>2</td>\n",
       "      <td>0</td>\n",
       "      <td>1</td>\n",
       "      <td>0</td>\n",
       "      <td>1</td>\n",
       "    </tr>\n",
       "    <tr>\n",
       "      <th>2</th>\n",
       "      <td>26</td>\n",
       "      <td>2</td>\n",
       "      <td>1</td>\n",
       "      <td>1</td>\n",
       "      <td>0</td>\n",
       "      <td>0</td>\n",
       "    </tr>\n",
       "    <tr>\n",
       "      <th>3</th>\n",
       "      <td>28</td>\n",
       "      <td>1</td>\n",
       "      <td>0</td>\n",
       "      <td>2</td>\n",
       "      <td>0</td>\n",
       "      <td>0</td>\n",
       "    </tr>\n",
       "    <tr>\n",
       "      <th>4</th>\n",
       "      <td>22</td>\n",
       "      <td>2</td>\n",
       "      <td>0</td>\n",
       "      <td>1</td>\n",
       "      <td>0</td>\n",
       "      <td>1</td>\n",
       "    </tr>\n",
       "    <tr>\n",
       "      <th>...</th>\n",
       "      <td>...</td>\n",
       "      <td>...</td>\n",
       "      <td>...</td>\n",
       "      <td>...</td>\n",
       "      <td>...</td>\n",
       "      <td>...</td>\n",
       "    </tr>\n",
       "    <tr>\n",
       "      <th>75</th>\n",
       "      <td>27</td>\n",
       "      <td>2</td>\n",
       "      <td>1</td>\n",
       "      <td>1</td>\n",
       "      <td>0</td>\n",
       "      <td>0</td>\n",
       "    </tr>\n",
       "    <tr>\n",
       "      <th>76</th>\n",
       "      <td>33</td>\n",
       "      <td>4</td>\n",
       "      <td>0</td>\n",
       "      <td>1</td>\n",
       "      <td>0</td>\n",
       "      <td>1</td>\n",
       "    </tr>\n",
       "    <tr>\n",
       "      <th>77</th>\n",
       "      <td>29</td>\n",
       "      <td>2</td>\n",
       "      <td>1</td>\n",
       "      <td>2</td>\n",
       "      <td>0</td>\n",
       "      <td>1</td>\n",
       "    </tr>\n",
       "    <tr>\n",
       "      <th>78</th>\n",
       "      <td>25</td>\n",
       "      <td>1</td>\n",
       "      <td>2</td>\n",
       "      <td>0</td>\n",
       "      <td>0</td>\n",
       "      <td>1</td>\n",
       "    </tr>\n",
       "    <tr>\n",
       "      <th>79</th>\n",
       "      <td>24</td>\n",
       "      <td>2</td>\n",
       "      <td>2</td>\n",
       "      <td>1</td>\n",
       "      <td>0</td>\n",
       "      <td>0</td>\n",
       "    </tr>\n",
       "  </tbody>\n",
       "</table>\n",
       "<p>80 rows × 6 columns</p>\n",
       "</div>"
      ],
      "text/plain": [
       "    Usia  Kelahiran_ke-  Waktu_Kelahiran  Tekanan_darah  Kelainan_jantung  \\\n",
       "0     22              1                0              2                 0   \n",
       "1     26              2                0              1                 0   \n",
       "2     26              2                1              1                 0   \n",
       "3     28              1                0              2                 0   \n",
       "4     22              2                0              1                 0   \n",
       "..   ...            ...              ...            ...               ...   \n",
       "75    27              2                1              1                 0   \n",
       "76    33              4                0              1                 0   \n",
       "77    29              2                1              2                 0   \n",
       "78    25              1                2              0                 0   \n",
       "79    24              2                2              1                 0   \n",
       "\n",
       "    Caesarian  \n",
       "0           0  \n",
       "1           1  \n",
       "2           0  \n",
       "3           0  \n",
       "4           1  \n",
       "..        ...  \n",
       "75          0  \n",
       "76          1  \n",
       "77          1  \n",
       "78          1  \n",
       "79          0  \n",
       "\n",
       "[80 rows x 6 columns]"
      ]
     },
     "execution_count": 1,
     "metadata": {},
     "output_type": "execute_result"
    }
   ],
   "source": [
    "import pandas as pd\n",
    "import numpy as np\n",
    "df = pd.read_csv('caesarian.csv')\n",
    "df"
   ]
  },
  {
   "cell_type": "code",
   "execution_count": 2,
   "id": "9f1093b5",
   "metadata": {
    "scrolled": true
   },
   "outputs": [
    {
     "data": {
      "text/plain": [
       "array([[22,  1,  0,  2,  0],\n",
       "       [26,  2,  0,  1,  0],\n",
       "       [26,  2,  1,  1,  0],\n",
       "       [28,  1,  0,  2,  0],\n",
       "       [22,  2,  0,  1,  0],\n",
       "       [26,  1,  1,  0,  0],\n",
       "       [27,  2,  0,  1,  0],\n",
       "       [32,  3,  0,  1,  0],\n",
       "       [28,  2,  0,  1,  0],\n",
       "       [27,  1,  1,  1,  0],\n",
       "       [36,  1,  0,  1,  0],\n",
       "       [33,  1,  1,  0,  0],\n",
       "       [23,  1,  1,  1,  0],\n",
       "       [20,  1,  0,  1,  1],\n",
       "       [29,  1,  2,  0,  1],\n",
       "       [25,  1,  2,  0,  0],\n",
       "       [25,  1,  0,  1,  0],\n",
       "       [20,  1,  2,  2,  0],\n",
       "       [37,  3,  0,  1,  1],\n",
       "       [24,  1,  2,  0,  1],\n",
       "       [26,  1,  1,  1,  0],\n",
       "       [33,  2,  0,  0,  1],\n",
       "       [25,  1,  1,  2,  0],\n",
       "       [27,  1,  0,  0,  1],\n",
       "       [20,  1,  0,  2,  1],\n",
       "       [18,  1,  0,  1,  0],\n",
       "       [18,  1,  1,  2,  1],\n",
       "       [30,  1,  0,  1,  0],\n",
       "       [32,  1,  0,  2,  1],\n",
       "       [26,  2,  1,  1,  1],\n",
       "       [25,  1,  0,  0,  0],\n",
       "       [40,  1,  0,  1,  1],\n",
       "       [32,  2,  0,  2,  1],\n",
       "       [27,  2,  0,  1,  1],\n",
       "       [26,  2,  2,  1,  0],\n",
       "       [28,  3,  0,  2,  0],\n",
       "       [33,  1,  1,  1,  0],\n",
       "       [31,  2,  2,  1,  0],\n",
       "       [31,  1,  0,  1,  0],\n",
       "       [26,  1,  2,  0,  1],\n",
       "       [27,  1,  0,  2,  1],\n",
       "       [19,  1,  0,  1,  0],\n",
       "       [36,  1,  1,  2,  0],\n",
       "       [22,  1,  0,  1,  0],\n",
       "       [36,  4,  0,  2,  1],\n",
       "       [28,  3,  0,  1,  1],\n",
       "       [26,  1,  0,  1,  0],\n",
       "       [32,  2,  0,  2,  1],\n",
       "       [26,  2,  2,  1,  0],\n",
       "       [29,  2,  0,  0,  1],\n",
       "       [33,  3,  2,  1,  1],\n",
       "       [21,  2,  1,  0,  1],\n",
       "       [30,  3,  2,  2,  0],\n",
       "       [35,  1,  1,  0,  0],\n",
       "       [29,  2,  0,  1,  1],\n",
       "       [25,  2,  0,  1,  0],\n",
       "       [32,  3,  1,  0,  1],\n",
       "       [21,  1,  0,  0,  0],\n",
       "       [26,  1,  0,  2,  0],\n",
       "       [30,  2,  1,  2,  1],\n",
       "       [22,  1,  2,  2,  0],\n",
       "       [19,  1,  0,  1,  0],\n",
       "       [32,  2,  0,  0,  0],\n",
       "       [32,  2,  0,  1,  1],\n",
       "       [31,  1,  2,  2,  1],\n",
       "       [35,  2,  0,  1,  0],\n",
       "       [28,  3,  0,  1,  0],\n",
       "       [29,  2,  0,  1,  1],\n",
       "       [25,  1,  0,  0,  0],\n",
       "       [27,  2,  2,  0,  0],\n",
       "       [17,  1,  0,  0,  0],\n",
       "       [29,  1,  2,  0,  1],\n",
       "       [28,  2,  0,  1,  0],\n",
       "       [32,  3,  0,  1,  1],\n",
       "       [38,  3,  2,  2,  1],\n",
       "       [27,  2,  1,  1,  0],\n",
       "       [33,  4,  0,  1,  0],\n",
       "       [29,  2,  1,  2,  0],\n",
       "       [25,  1,  2,  0,  0],\n",
       "       [24,  2,  2,  1,  0]], dtype=int64)"
      ]
     },
     "execution_count": 2,
     "metadata": {},
     "output_type": "execute_result"
    }
   ],
   "source": [
    "x = df.iloc[:, [0,1,2,3,4]].values\n",
    "y = df.iloc[:, 5].values\n",
    "x"
   ]
  },
  {
   "cell_type": "code",
   "execution_count": 3,
   "id": "706c8399",
   "metadata": {},
   "outputs": [
    {
     "data": {
      "text/plain": [
       "array([0, 1, 0, 0, 1, 0, 0, 1, 0, 1, 0, 1, 0, 0, 1, 0, 0, 1, 1, 1, 0, 1,\n",
       "       0, 1, 1, 0, 1, 0, 1, 0, 0, 1, 1, 1, 1, 1, 0, 0, 0, 1, 1, 1, 1, 1,\n",
       "       1, 1, 0, 1, 0, 1, 0, 1, 0, 0, 1, 0, 1, 1, 1, 1, 0, 1, 1, 1, 0, 1,\n",
       "       1, 0, 1, 0, 1, 1, 0, 0, 1, 0, 1, 1, 1, 0], dtype=int64)"
      ]
     },
     "execution_count": 3,
     "metadata": {},
     "output_type": "execute_result"
    }
   ],
   "source": [
    "y"
   ]
  },
  {
   "cell_type": "code",
   "execution_count": 53,
   "id": "4dafcd0b",
   "metadata": {
    "scrolled": true
   },
   "outputs": [
    {
     "data": {
      "text/plain": [
       "array([[36,  1,  1,  2,  0],\n",
       "       [31,  1,  0,  1,  0],\n",
       "       [19,  1,  0,  1,  0],\n",
       "       [24,  2,  2,  1,  0],\n",
       "       [25,  2,  0,  1,  0],\n",
       "       [20,  1,  2,  2,  0],\n",
       "       [22,  1,  2,  2,  0],\n",
       "       [32,  2,  0,  0,  0],\n",
       "       [27,  2,  0,  1,  0],\n",
       "       [32,  3,  1,  0,  1],\n",
       "       [32,  3,  0,  1,  1],\n",
       "       [22,  2,  0,  1,  0],\n",
       "       [27,  2,  0,  1,  1],\n",
       "       [35,  1,  1,  0,  0],\n",
       "       [32,  1,  0,  2,  1],\n",
       "       [33,  1,  1,  0,  0],\n",
       "       [21,  1,  0,  0,  0],\n",
       "       [27,  1,  0,  0,  1],\n",
       "       [36,  1,  0,  1,  0],\n",
       "       [40,  1,  0,  1,  1],\n",
       "       [22,  1,  0,  1,  0],\n",
       "       [19,  1,  0,  1,  0],\n",
       "       [26,  2,  0,  1,  0],\n",
       "       [32,  2,  0,  2,  1],\n",
       "       [27,  2,  1,  1,  0],\n",
       "       [29,  1,  2,  0,  1],\n",
       "       [29,  2,  0,  1,  1],\n",
       "       [24,  1,  2,  0,  1],\n",
       "       [26,  2,  1,  1,  1],\n",
       "       [29,  2,  0,  0,  1],\n",
       "       [20,  1,  0,  2,  1],\n",
       "       [28,  3,  0,  2,  0],\n",
       "       [37,  3,  0,  1,  1],\n",
       "       [22,  1,  0,  2,  0],\n",
       "       [25,  1,  2,  0,  0],\n",
       "       [25,  1,  2,  0,  0],\n",
       "       [26,  1,  1,  0,  0],\n",
       "       [30,  2,  1,  2,  1],\n",
       "       [25,  1,  0,  1,  0],\n",
       "       [21,  2,  1,  0,  1],\n",
       "       [26,  1,  1,  1,  0],\n",
       "       [38,  3,  2,  2,  1],\n",
       "       [28,  2,  0,  1,  0],\n",
       "       [20,  1,  0,  1,  1],\n",
       "       [18,  1,  0,  1,  0],\n",
       "       [31,  2,  2,  1,  0],\n",
       "       [26,  1,  0,  1,  0],\n",
       "       [26,  1,  2,  0,  1],\n",
       "       [35,  2,  0,  1,  0],\n",
       "       [26,  1,  0,  2,  0],\n",
       "       [23,  1,  1,  1,  0],\n",
       "       [17,  1,  0,  0,  0],\n",
       "       [33,  1,  1,  1,  0],\n",
       "       [33,  2,  0,  0,  1],\n",
       "       [27,  1,  1,  1,  0],\n",
       "       [33,  4,  0,  1,  0],\n",
       "       [29,  2,  0,  1,  1],\n",
       "       [31,  1,  2,  2,  1],\n",
       "       [32,  2,  0,  2,  1],\n",
       "       [36,  4,  0,  2,  1]], dtype=int64)"
      ]
     },
     "execution_count": 53,
     "metadata": {},
     "output_type": "execute_result"
    }
   ],
   "source": [
    "from sklearn.model_selection import train_test_split\n",
    "x_train, x_test, y_train, y_test = train_test_split(x, y, test_size=0.25, random_state=0)\n",
    "x_train"
   ]
  },
  {
   "cell_type": "code",
   "execution_count": 54,
   "id": "acc94cfa",
   "metadata": {},
   "outputs": [
    {
     "data": {
      "text/plain": [
       "array([1, 0, 1, 0, 0, 1, 0, 1, 0, 1, 0, 1, 1, 0, 1, 1, 1, 1, 0, 1, 1, 1,\n",
       "       1, 1, 0, 1, 1, 1, 0, 1, 1, 1, 1, 0, 1, 0, 0, 1, 0, 1, 0, 1, 0, 0,\n",
       "       0, 0, 0, 1, 1, 1, 0, 1, 0, 1, 1, 1, 0, 0, 1, 1], dtype=int64)"
      ]
     },
     "execution_count": 54,
     "metadata": {},
     "output_type": "execute_result"
    }
   ],
   "source": [
    "y_train"
   ]
  },
  {
   "cell_type": "code",
   "execution_count": 55,
   "id": "a83e22e4",
   "metadata": {},
   "outputs": [
    {
     "data": {
      "text/plain": [
       "array([[33,  3,  2,  1,  1],\n",
       "       [30,  1,  0,  1,  0],\n",
       "       [25,  1,  0,  0,  0],\n",
       "       [29,  2,  1,  2,  0],\n",
       "       [28,  3,  0,  1,  1],\n",
       "       [29,  1,  2,  0,  1],\n",
       "       [28,  3,  0,  1,  0],\n",
       "       [25,  1,  0,  0,  0],\n",
       "       [26,  2,  2,  1,  0],\n",
       "       [27,  2,  2,  0,  0],\n",
       "       [27,  1,  0,  2,  1],\n",
       "       [32,  2,  0,  1,  1],\n",
       "       [26,  2,  1,  1,  0],\n",
       "       [28,  2,  0,  1,  0],\n",
       "       [30,  3,  2,  2,  0],\n",
       "       [26,  2,  2,  1,  0],\n",
       "       [28,  1,  0,  2,  0],\n",
       "       [25,  1,  1,  2,  0],\n",
       "       [32,  3,  0,  1,  0],\n",
       "       [18,  1,  1,  2,  1]], dtype=int64)"
      ]
     },
     "execution_count": 55,
     "metadata": {},
     "output_type": "execute_result"
    }
   ],
   "source": [
    "x_test"
   ]
  },
  {
   "cell_type": "code",
   "execution_count": 56,
   "id": "dbd77832",
   "metadata": {},
   "outputs": [
    {
     "data": {
      "text/plain": [
       "array([0, 0, 0, 1, 1, 1, 1, 1, 0, 0, 1, 1, 0, 0, 0, 1, 0, 0, 1, 1],\n",
       "      dtype=int64)"
      ]
     },
     "execution_count": 56,
     "metadata": {},
     "output_type": "execute_result"
    }
   ],
   "source": [
    "y_test"
   ]
  },
  {
   "cell_type": "code",
   "execution_count": 57,
   "id": "3f939c52",
   "metadata": {
    "scrolled": true
   },
   "outputs": [],
   "source": [
    "from sklearn.preprocessing import StandardScaler\n",
    "scaler = StandardScaler()\n",
    "scaler.fit(x_train)\n",
    "x_train = scaler.transform(x_train)\n",
    "x_test = scaler.transform(x_test)"
   ]
  },
  {
   "cell_type": "code",
   "execution_count": 58,
   "id": "f1858c59",
   "metadata": {
    "scrolled": true
   },
   "outputs": [
    {
     "data": {
      "text/plain": [
       "KNeighborsClassifier()"
      ]
     },
     "execution_count": 58,
     "metadata": {},
     "output_type": "execute_result"
    }
   ],
   "source": [
    "from sklearn.neighbors import KNeighborsClassifier\n",
    "classifier = KNeighborsClassifier(n_neighbors=5)\n",
    "classifier.fit(x_train, y_train)"
   ]
  },
  {
   "cell_type": "code",
   "execution_count": 59,
   "id": "e5b3729c",
   "metadata": {
    "scrolled": true
   },
   "outputs": [
    {
     "data": {
      "text/plain": [
       "array([1, 0, 0, 1, 1, 1, 0, 0, 0, 0, 1, 1, 0, 0, 0, 0, 0, 0, 1, 0],\n",
       "      dtype=int64)"
      ]
     },
     "execution_count": 59,
     "metadata": {},
     "output_type": "execute_result"
    }
   ],
   "source": [
    "y_pred = classifier.predict(x_test)\n",
    "y_pred"
   ]
  },
  {
   "cell_type": "code",
   "execution_count": 60,
   "id": "00154163",
   "metadata": {
    "scrolled": true
   },
   "outputs": [
    {
     "name": "stdout",
     "output_type": "stream",
     "text": [
      "              precision    recall  f1-score   support\n",
      "\n",
      "           0       0.69      0.90      0.78        10\n",
      "           1       0.86      0.60      0.71        10\n",
      "\n",
      "    accuracy                           0.75        20\n",
      "   macro avg       0.77      0.75      0.74        20\n",
      "weighted avg       0.77      0.75      0.74        20\n",
      "\n",
      "[[9 1]\n",
      " [4 6]]\n"
     ]
    }
   ],
   "source": [
    "from sklearn.metrics import classification_report, confusion_matrix\n",
    "print (classification_report(y_test, y_pred))\n",
    "print (confusion_matrix(y_test, y_pred))"
   ]
  },
  {
   "cell_type": "code",
   "execution_count": 65,
   "id": "b5b5fe47",
   "metadata": {},
   "outputs": [
    {
     "data": {
      "text/html": [
       "<div>\n",
       "<style scoped>\n",
       "    .dataframe tbody tr th:only-of-type {\n",
       "        vertical-align: middle;\n",
       "    }\n",
       "\n",
       "    .dataframe tbody tr th {\n",
       "        vertical-align: top;\n",
       "    }\n",
       "\n",
       "    .dataframe thead th {\n",
       "        text-align: right;\n",
       "    }\n",
       "</style>\n",
       "<table border=\"1\" class=\"dataframe\">\n",
       "  <thead>\n",
       "    <tr style=\"text-align: right;\">\n",
       "      <th></th>\n",
       "      <th>Usia</th>\n",
       "      <th>Kelahiran</th>\n",
       "      <th>Waktu_Kelahiran</th>\n",
       "      <th>Tekanan_darah</th>\n",
       "      <th>Kelainan_jantung</th>\n",
       "      <th>Caesarian</th>\n",
       "    </tr>\n",
       "  </thead>\n",
       "  <tbody>\n",
       "    <tr>\n",
       "      <th>0</th>\n",
       "      <td>25</td>\n",
       "      <td>1</td>\n",
       "      <td>0</td>\n",
       "      <td>1</td>\n",
       "      <td>0</td>\n",
       "      <td>NaN</td>\n",
       "    </tr>\n",
       "    <tr>\n",
       "      <th>1</th>\n",
       "      <td>35</td>\n",
       "      <td>1</td>\n",
       "      <td>0</td>\n",
       "      <td>2</td>\n",
       "      <td>0</td>\n",
       "      <td>NaN</td>\n",
       "    </tr>\n",
       "  </tbody>\n",
       "</table>\n",
       "</div>"
      ],
      "text/plain": [
       "   Usia  Kelahiran  Waktu_Kelahiran  Tekanan_darah  Kelainan_jantung Caesarian\n",
       "0    25          1                0              1                 0       NaN\n",
       "1    35          1                0              2                 0       NaN"
      ]
     },
     "execution_count": 65,
     "metadata": {},
     "output_type": "execute_result"
    }
   ],
   "source": [
    "# prediksi 1 \n",
    "# usia 25\n",
    "# kelahiran 1\n",
    "# waktu kelahiran sesuai hpl (0)\n",
    "# tekanan darah normal (1)\n",
    "# kelainan jantung tidak ada (0)\n",
    "\n",
    "# prediksi 2\n",
    "# usia 35\n",
    "# kelahiran 1\n",
    "# waktu kelahiran sesuai hpl (0)\n",
    "# tekanan darah tinggi (2)\n",
    "# kelainan jantung tidak ada (0)\n",
    "\n",
    "data_prediksi = {'Usia': [25, 35],\n",
    "                'Kelahiran': [1, 1],\n",
    "                'Waktu_Kelahiran': [0, 0],\n",
    "                'Tekanan_darah': [1, 2],\n",
    "                'Kelainan_jantung': [0, 0],\n",
    "                'Caesarian': ['NaN', 'NaN']}\n",
    "df_prediksi = pd.DataFrame(data_prediksi)\n",
    "df_prediksi"
   ]
  },
  {
   "cell_type": "code",
   "execution_count": 80,
   "id": "00a2d258",
   "metadata": {},
   "outputs": [
    {
     "data": {
      "text/plain": [
       "array([[25,  1,  0,  1,  0],\n",
       "       [35,  1,  0,  2,  0]], dtype=int64)"
      ]
     },
     "execution_count": 80,
     "metadata": {},
     "output_type": "execute_result"
    }
   ],
   "source": [
    "x_prediksi = df_prediksi.iloc[:, [0, 1, 2, 3, 4]].values\n",
    "x_prediksi"
   ]
  },
  {
   "cell_type": "code",
   "execution_count": 72,
   "id": "c8bc2f6e",
   "metadata": {},
   "outputs": [],
   "source": [
    "# y_prediksi = classifier.predict(x_prediksi)\n",
    "# y_prediksi"
   ]
  },
  {
   "cell_type": "code",
   "execution_count": 81,
   "id": "d4c68824",
   "metadata": {},
   "outputs": [],
   "source": [
    "scaler.fit(x_prediksi)\n",
    "x_prediksi = scaler.transform(x_prediksi)"
   ]
  },
  {
   "cell_type": "code",
   "execution_count": 82,
   "id": "29353f45",
   "metadata": {},
   "outputs": [
    {
     "data": {
      "text/plain": [
       "KNeighborsClassifier()"
      ]
     },
     "execution_count": 82,
     "metadata": {},
     "output_type": "execute_result"
    }
   ],
   "source": [
    "classifier = KNeighborsClassifier(n_neighbors=5)\n",
    "classifier.fit(x_train, y_train)"
   ]
  },
  {
   "cell_type": "code",
   "execution_count": 83,
   "id": "d00190a2",
   "metadata": {},
   "outputs": [
    {
     "data": {
      "text/plain": [
       "array([1, 1], dtype=int64)"
      ]
     },
     "execution_count": 83,
     "metadata": {},
     "output_type": "execute_result"
    }
   ],
   "source": [
    "y_prediksi = classifier.predict(x_prediksi)\n",
    "y_prediksi"
   ]
  },
  {
   "cell_type": "code",
   "execution_count": 84,
   "id": "018b259d",
   "metadata": {},
   "outputs": [
    {
     "data": {
      "text/html": [
       "<div>\n",
       "<style scoped>\n",
       "    .dataframe tbody tr th:only-of-type {\n",
       "        vertical-align: middle;\n",
       "    }\n",
       "\n",
       "    .dataframe tbody tr th {\n",
       "        vertical-align: top;\n",
       "    }\n",
       "\n",
       "    .dataframe thead th {\n",
       "        text-align: right;\n",
       "    }\n",
       "</style>\n",
       "<table border=\"1\" class=\"dataframe\">\n",
       "  <thead>\n",
       "    <tr style=\"text-align: right;\">\n",
       "      <th></th>\n",
       "      <th>Usia</th>\n",
       "      <th>Kelahiran</th>\n",
       "      <th>Waktu_Kelahiran</th>\n",
       "      <th>Tekanan_darah</th>\n",
       "      <th>Kelainan_jantung</th>\n",
       "      <th>Caesarian</th>\n",
       "    </tr>\n",
       "  </thead>\n",
       "  <tbody>\n",
       "    <tr>\n",
       "      <th>0</th>\n",
       "      <td>25</td>\n",
       "      <td>1</td>\n",
       "      <td>0</td>\n",
       "      <td>1</td>\n",
       "      <td>0</td>\n",
       "      <td>1</td>\n",
       "    </tr>\n",
       "    <tr>\n",
       "      <th>1</th>\n",
       "      <td>35</td>\n",
       "      <td>1</td>\n",
       "      <td>0</td>\n",
       "      <td>2</td>\n",
       "      <td>0</td>\n",
       "      <td>1</td>\n",
       "    </tr>\n",
       "  </tbody>\n",
       "</table>\n",
       "</div>"
      ],
      "text/plain": [
       "   Usia  Kelahiran  Waktu_Kelahiran  Tekanan_darah  Kelainan_jantung  \\\n",
       "0    25          1                0              1                 0   \n",
       "1    35          1                0              2                 0   \n",
       "\n",
       "   Caesarian  \n",
       "0          1  \n",
       "1          1  "
      ]
     },
     "execution_count": 84,
     "metadata": {},
     "output_type": "execute_result"
    }
   ],
   "source": [
    "hasil_prediksi = {'Usia': [25, 35],\n",
    "                'Kelahiran': [1, 1],\n",
    "                'Waktu_Kelahiran': [0, 0],\n",
    "                'Tekanan_darah': [1, 2],\n",
    "                'Kelainan_jantung': [0, 0],\n",
    "                'Caesarian': y_prediksi}\n",
    "df_hasil = pd.DataFrame(hasil_prediksi)\n",
    "df_hasil"
   ]
  }
 ],
 "metadata": {
  "kernelspec": {
   "display_name": "base",
   "language": "python",
   "name": "python3"
  },
  "language_info": {
   "codemirror_mode": {
    "name": "ipython",
    "version": 3
   },
   "file_extension": ".py",
   "mimetype": "text/x-python",
   "name": "python",
   "nbconvert_exporter": "python",
   "pygments_lexer": "ipython3",
   "version": "3.9.12"
  },
  "vscode": {
   "interpreter": {
    "hash": "e2833a544ce723533ac69da5a062ff7cf402a6b7f310802243bc0e863f8770c3"
   }
  }
 },
 "nbformat": 4,
 "nbformat_minor": 5
}
